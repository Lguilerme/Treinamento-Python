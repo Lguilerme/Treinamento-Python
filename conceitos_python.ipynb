{
  "nbformat": 4,
  "nbformat_minor": 0,
  "metadata": {
    "colab": {
      "provenance": [],
      "include_colab_link": true
    },
    "kernelspec": {
      "name": "python3",
      "display_name": "Python 3"
    }
  },
  "cells": [
    {
      "cell_type": "markdown",
      "metadata": {
        "id": "view-in-github",
        "colab_type": "text"
      },
      "source": [
        "<a href=\"https://colab.research.google.com/github/Lguilerme/Treinamento-Python/blob/main/conceitos_python.ipynb\" target=\"_parent\"><img src=\"https://colab.research.google.com/assets/colab-badge.svg\" alt=\"Open In Colab\"/></a>"
      ]
    },
    {
      "cell_type": "markdown",
      "metadata": {
        "id": "n9tALs4xVhkB"
      },
      "source": [
        "# **Introdução**"
      ]
    },
    {
      "cell_type": "markdown",
      "metadata": {
        "id": "Qksfq4rWV923"
      },
      "source": [
        "O objetivo desse projeto é de apresentar os comandos básicos de Python para aplicar em análise de dados."
      ]
    },
    {
      "cell_type": "code",
      "metadata": {
        "id": "BogCAZHYV85o",
        "outputId": "c3d3c410-e85f-4ea4-ee52-db7fa4915073",
        "colab": {
          "base_uri": "https://localhost:8080/"
        }
      },
      "source": [
        "print (\"Olá Mundo\")"
      ],
      "execution_count": 1,
      "outputs": [
        {
          "output_type": "stream",
          "name": "stdout",
          "text": [
            "Olá Mundo\n"
          ]
        }
      ]
    },
    {
      "cell_type": "code",
      "metadata": {
        "id": "Jibm2nlUVSzS"
      },
      "source": [
        "mensagem = 'Olá Mundo'"
      ],
      "execution_count": 2,
      "outputs": []
    },
    {
      "cell_type": "code",
      "metadata": {
        "id": "vQVlCNGWzmuI",
        "outputId": "290dcbcc-5dfb-4fb1-9001-f672515ace50",
        "colab": {
          "base_uri": "https://localhost:8080/"
        }
      },
      "source": [
        "print (mensagem)"
      ],
      "execution_count": 3,
      "outputs": [
        {
          "output_type": "stream",
          "name": "stdout",
          "text": [
            "Olá Mundo\n"
          ]
        }
      ]
    },
    {
      "cell_type": "code",
      "metadata": {
        "id": "tAT8jp7Hzrkm",
        "outputId": "ad393259-e1fb-4b26-bc83-039a525cd0f1",
        "colab": {
          "base_uri": "https://localhost:8080/",
          "height": 35
        }
      },
      "source": [
        "mensagem"
      ],
      "execution_count": 4,
      "outputs": [
        {
          "output_type": "execute_result",
          "data": {
            "text/plain": [
              "'Olá Mundo'"
            ],
            "application/vnd.google.colaboratory.intrinsic+json": {
              "type": "string"
            }
          },
          "metadata": {},
          "execution_count": 4
        }
      ]
    },
    {
      "cell_type": "code",
      "metadata": {
        "id": "EI1oXGPrz7c1",
        "outputId": "6c7a4e7b-6b2e-464d-a8a2-d001c81ced0d",
        "colab": {
          "base_uri": "https://localhost:8080/",
          "height": 321
        }
      },
      "source": [
        "nome = input ('Qual é o seu nome?')"
      ],
      "execution_count": 5,
      "outputs": [
        {
          "output_type": "error",
          "ename": "KeyboardInterrupt",
          "evalue": "Interrupted by user",
          "traceback": [
            "\u001b[0;31m---------------------------------------------------------------------------\u001b[0m",
            "\u001b[0;31mKeyboardInterrupt\u001b[0m                         Traceback (most recent call last)",
            "\u001b[0;32m/tmp/ipython-input-1281027712.py\u001b[0m in \u001b[0;36m<cell line: 0>\u001b[0;34m()\u001b[0m\n\u001b[0;32m----> 1\u001b[0;31m \u001b[0mnome\u001b[0m \u001b[0;34m=\u001b[0m \u001b[0minput\u001b[0m \u001b[0;34m(\u001b[0m\u001b[0;34m'Qual é o seu nome?'\u001b[0m\u001b[0;34m)\u001b[0m\u001b[0;34m\u001b[0m\u001b[0;34m\u001b[0m\u001b[0m\n\u001b[0m",
            "\u001b[0;32m/usr/local/lib/python3.12/dist-packages/ipykernel/kernelbase.py\u001b[0m in \u001b[0;36mraw_input\u001b[0;34m(self, prompt)\u001b[0m\n\u001b[1;32m   1175\u001b[0m                 \u001b[0;34m\"raw_input was called, but this frontend does not support input requests.\"\u001b[0m\u001b[0;34m\u001b[0m\u001b[0;34m\u001b[0m\u001b[0m\n\u001b[1;32m   1176\u001b[0m             )\n\u001b[0;32m-> 1177\u001b[0;31m         return self._input_request(\n\u001b[0m\u001b[1;32m   1178\u001b[0m             \u001b[0mstr\u001b[0m\u001b[0;34m(\u001b[0m\u001b[0mprompt\u001b[0m\u001b[0;34m)\u001b[0m\u001b[0;34m,\u001b[0m\u001b[0;34m\u001b[0m\u001b[0;34m\u001b[0m\u001b[0m\n\u001b[1;32m   1179\u001b[0m             \u001b[0mself\u001b[0m\u001b[0;34m.\u001b[0m\u001b[0m_parent_ident\u001b[0m\u001b[0;34m[\u001b[0m\u001b[0;34m\"shell\"\u001b[0m\u001b[0;34m]\u001b[0m\u001b[0;34m,\u001b[0m\u001b[0;34m\u001b[0m\u001b[0;34m\u001b[0m\u001b[0m\n",
            "\u001b[0;32m/usr/local/lib/python3.12/dist-packages/ipykernel/kernelbase.py\u001b[0m in \u001b[0;36m_input_request\u001b[0;34m(self, prompt, ident, parent, password)\u001b[0m\n\u001b[1;32m   1217\u001b[0m             \u001b[0;32mexcept\u001b[0m \u001b[0mKeyboardInterrupt\u001b[0m\u001b[0;34m:\u001b[0m\u001b[0;34m\u001b[0m\u001b[0;34m\u001b[0m\u001b[0m\n\u001b[1;32m   1218\u001b[0m                 \u001b[0;31m# re-raise KeyboardInterrupt, to truncate traceback\u001b[0m\u001b[0;34m\u001b[0m\u001b[0;34m\u001b[0m\u001b[0m\n\u001b[0;32m-> 1219\u001b[0;31m                 \u001b[0;32mraise\u001b[0m \u001b[0mKeyboardInterrupt\u001b[0m\u001b[0;34m(\u001b[0m\u001b[0;34m\"Interrupted by user\"\u001b[0m\u001b[0;34m)\u001b[0m \u001b[0;32mfrom\u001b[0m \u001b[0;32mNone\u001b[0m\u001b[0;34m\u001b[0m\u001b[0;34m\u001b[0m\u001b[0m\n\u001b[0m\u001b[1;32m   1220\u001b[0m             \u001b[0;32mexcept\u001b[0m \u001b[0mException\u001b[0m\u001b[0;34m:\u001b[0m\u001b[0;34m\u001b[0m\u001b[0;34m\u001b[0m\u001b[0m\n\u001b[1;32m   1221\u001b[0m                 \u001b[0mself\u001b[0m\u001b[0;34m.\u001b[0m\u001b[0mlog\u001b[0m\u001b[0;34m.\u001b[0m\u001b[0mwarning\u001b[0m\u001b[0;34m(\u001b[0m\u001b[0;34m\"Invalid Message:\"\u001b[0m\u001b[0;34m,\u001b[0m \u001b[0mexc_info\u001b[0m\u001b[0;34m=\u001b[0m\u001b[0;32mTrue\u001b[0m\u001b[0;34m)\u001b[0m\u001b[0;34m\u001b[0m\u001b[0;34m\u001b[0m\u001b[0m\n",
            "\u001b[0;31mKeyboardInterrupt\u001b[0m: Interrupted by user"
          ]
        }
      ]
    },
    {
      "cell_type": "code",
      "metadata": {
        "id": "20O5jaIm0Cxd"
      },
      "source": [
        "print ('Meu nome é:',  nome)"
      ],
      "execution_count": null,
      "outputs": []
    },
    {
      "cell_type": "code",
      "metadata": {
        "id": "QF76W7O60I18"
      },
      "source": [
        "nome = input ('Qual é o seu nome?')\n",
        "print ('Meu nome é:',  nome)\n"
      ],
      "execution_count": null,
      "outputs": []
    },
    {
      "cell_type": "markdown",
      "metadata": {
        "id": "WMGU7gLp2_WF"
      },
      "source": [
        "# **Operadores Matemáticos**"
      ]
    },
    {
      "cell_type": "code",
      "metadata": {
        "id": "M7zzp5GP0b_s"
      },
      "source": [
        "n1 = 7"
      ],
      "execution_count": null,
      "outputs": []
    },
    {
      "cell_type": "code",
      "metadata": {
        "id": "EZ5RvZX20ebb"
      },
      "source": [
        " n2 = 2"
      ],
      "execution_count": null,
      "outputs": []
    },
    {
      "cell_type": "code",
      "metadata": {
        "id": "6qrwoXGY0gqb"
      },
      "source": [
        "s = n1 + n2\n",
        "print(s)\n"
      ],
      "execution_count": null,
      "outputs": []
    },
    {
      "cell_type": "code",
      "metadata": {
        "id": "khdn_IM50nmk"
      },
      "source": [
        "s = s + n2\n",
        "print (s)"
      ],
      "execution_count": null,
      "outputs": []
    },
    {
      "cell_type": "code",
      "metadata": {
        "id": "hCTXtBmy1Cn7"
      },
      "source": [
        "s += n2\n",
        "print(s)"
      ],
      "execution_count": null,
      "outputs": []
    },
    {
      "cell_type": "code",
      "metadata": {
        "id": "UQc8-Hgb19Lj"
      },
      "source": [
        "sub = n1 - n2\n",
        "sub"
      ],
      "execution_count": null,
      "outputs": []
    },
    {
      "cell_type": "code",
      "metadata": {
        "id": "qLrm9drE2BeX"
      },
      "source": [
        "mult = n1 * n2\n",
        "mult"
      ],
      "execution_count": null,
      "outputs": []
    },
    {
      "cell_type": "code",
      "metadata": {
        "id": "X7aZTJnZ2I7f"
      },
      "source": [
        "div = n1 / n2\n",
        "div"
      ],
      "execution_count": null,
      "outputs": []
    },
    {
      "cell_type": "code",
      "metadata": {
        "id": "aW1YPskE2OCR"
      },
      "source": [
        "pot = n1**n2\n",
        "pot"
      ],
      "execution_count": null,
      "outputs": []
    },
    {
      "cell_type": "code",
      "metadata": {
        "id": "JV1zTdU82aju"
      },
      "source": [
        "pot2 = pow (n1,n2)\n",
        "pot2"
      ],
      "execution_count": null,
      "outputs": []
    },
    {
      "cell_type": "code",
      "metadata": {
        "id": "wTYY_sXw2Ri3"
      },
      "source": [
        "divi = n1 // n2\n",
        "divi"
      ],
      "execution_count": null,
      "outputs": []
    },
    {
      "cell_type": "code",
      "metadata": {
        "id": "q7DPBYvy2WPe"
      },
      "source": [
        "rest = n1 % n2\n",
        "rest"
      ],
      "execution_count": null,
      "outputs": []
    },
    {
      "cell_type": "markdown",
      "metadata": {
        "id": "D9dOFbLX59pv"
      },
      "source": [
        "# **Importações de bibliotecas (pacotes) e módulos**"
      ]
    },
    {
      "cell_type": "code",
      "source": [
        "import numpy as np"
      ],
      "metadata": {
        "id": "GJuycUdlFqGq"
      },
      "execution_count": 1,
      "outputs": []
    },
    {
      "cell_type": "markdown",
      "source": [],
      "metadata": {
        "id": "9g8je0l6X9bg"
      }
    },
    {
      "cell_type": "markdown",
      "source": [
        "https://numpy.org/devdocs/user/whatisnumpy.html"
      ],
      "metadata": {
        "id": "msEbiw6YGjju"
      }
    },
    {
      "cell_type": "code",
      "metadata": {
        "id": "5cO9u1vDuwFq"
      },
      "source": [
        "raiz_quadrada = sqrt (25)"
      ],
      "execution_count": null,
      "outputs": []
    },
    {
      "cell_type": "code",
      "metadata": {
        "id": "GARWqy2l3RIs"
      },
      "source": [
        "import math\n"
      ],
      "execution_count": 2,
      "outputs": []
    },
    {
      "cell_type": "markdown",
      "source": [
        "https://docs.python.org/pt-br/3/library/math.html"
      ],
      "metadata": {
        "id": "o22Iq_63Gm5v"
      }
    },
    {
      "cell_type": "code",
      "metadata": {
        "id": "-zEt18Gi3zDH"
      },
      "source": [
        "n = 18"
      ],
      "execution_count": 4,
      "outputs": []
    },
    {
      "cell_type": "code",
      "metadata": {
        "id": "hJVBJ7LE3wZL",
        "colab": {
          "base_uri": "https://localhost:8080/"
        },
        "outputId": "69902959-ab8f-4efd-8652-d20735f7a887"
      },
      "source": [
        "raiz = math.sqrt(n)\n",
        "print ('A raiz de {} é igual a {:.2f}'.format (n, raiz))"
      ],
      "execution_count": 5,
      "outputs": [
        {
          "output_type": "stream",
          "name": "stdout",
          "text": [
            "A raiz de 18 é igual a 4.24\n"
          ]
        }
      ]
    },
    {
      "cell_type": "code",
      "metadata": {
        "id": "dWDNjAQIECyI",
        "colab": {
          "base_uri": "https://localhost:8080/"
        },
        "outputId": "a166f149-5cff-4739-f6ca-e701325e532f"
      },
      "source": [
        "print(raiz)"
      ],
      "execution_count": 6,
      "outputs": [
        {
          "output_type": "stream",
          "name": "stdout",
          "text": [
            "4.242640687119285\n"
          ]
        }
      ]
    },
    {
      "cell_type": "code",
      "source": [
        "math.sqrt(18)"
      ],
      "metadata": {
        "colab": {
          "base_uri": "https://localhost:8080/"
        },
        "id": "np3FjMOPKTiP",
        "outputId": "6a79d31c-c88e-4af8-b7ae-4bc933a052df"
      },
      "execution_count": 7,
      "outputs": [
        {
          "output_type": "execute_result",
          "data": {
            "text/plain": [
              "4.242640687119285"
            ]
          },
          "metadata": {},
          "execution_count": 7
        }
      ]
    },
    {
      "cell_type": "code",
      "source": [
        "print(f'A raiz quadrada de {n} é {raiz:.2f}')"
      ],
      "metadata": {
        "colab": {
          "base_uri": "https://localhost:8080/"
        },
        "id": "xVI_fWy0GzP3",
        "outputId": "52da498e-b070-41f6-f4ba-6ff7cb6661c4"
      },
      "execution_count": 8,
      "outputs": [
        {
          "output_type": "stream",
          "name": "stdout",
          "text": [
            "A raiz quadrada de 18 é 4.24\n"
          ]
        }
      ]
    },
    {
      "cell_type": "code",
      "metadata": {
        "id": "hFwB1fmz4RbL",
        "colab": {
          "base_uri": "https://localhost:8080/"
        },
        "outputId": "bb819b67-efeb-49a7-affb-ba9030ef94fa"
      },
      "source": [
        "raiz2 = n ** 0.5\n",
        "print (raiz2)"
      ],
      "execution_count": 9,
      "outputs": [
        {
          "output_type": "stream",
          "name": "stdout",
          "text": [
            "4.242640687119285\n"
          ]
        }
      ]
    },
    {
      "cell_type": "code",
      "source": [
        "print (f'{raiz2:.3f}')"
      ],
      "metadata": {
        "colab": {
          "base_uri": "https://localhost:8080/"
        },
        "id": "kcAW_taYHSvN",
        "outputId": "a1926d9d-4013-4462-f4e0-e8dd71d6a72d"
      },
      "execution_count": 10,
      "outputs": [
        {
          "output_type": "stream",
          "name": "stdout",
          "text": [
            "4.243\n"
          ]
        }
      ]
    },
    {
      "cell_type": "code",
      "metadata": {
        "id": "5Y4ovCja5H3Y",
        "colab": {
          "base_uri": "https://localhost:8080/"
        },
        "outputId": "7b9041e1-00ae-49c3-d23d-d39275fcd58b"
      },
      "source": [
        "print ('{:.3f}'.format(raiz2))"
      ],
      "execution_count": 11,
      "outputs": [
        {
          "output_type": "stream",
          "name": "stdout",
          "text": [
            "4.243\n"
          ]
        }
      ]
    },
    {
      "cell_type": "code",
      "source": [
        "sqrt(36)"
      ],
      "metadata": {
        "colab": {
          "base_uri": "https://localhost:8080/"
        },
        "id": "Tby88ITGLZM6",
        "outputId": "7165422f-f0ec-4146-b9f8-00107efcd545"
      },
      "execution_count": 15,
      "outputs": [
        {
          "output_type": "execute_result",
          "data": {
            "text/plain": [
              "6.0"
            ]
          },
          "metadata": {},
          "execution_count": 15
        }
      ]
    },
    {
      "cell_type": "code",
      "metadata": {
        "id": "WsMSOqQr5v-9",
        "colab": {
          "base_uri": "https://localhost:8080/"
        },
        "outputId": "0f5c9df0-ccee-4610-aa4e-094ec372ca34"
      },
      "source": [
        "from math import sqrt\n",
        "raiz3 = sqrt(n)\n",
        "print (f'{raiz3:.2f}')"
      ],
      "execution_count": 14,
      "outputs": [
        {
          "output_type": "stream",
          "name": "stdout",
          "text": [
            "4.24\n"
          ]
        }
      ]
    },
    {
      "cell_type": "code",
      "source": [
        "sqrt(49)"
      ],
      "metadata": {
        "colab": {
          "base_uri": "https://localhost:8080/"
        },
        "id": "qgLInq_9aVX8",
        "outputId": "c23b846e-09f0-465f-b0e1-f0dd549cfb3c"
      },
      "execution_count": 16,
      "outputs": [
        {
          "output_type": "execute_result",
          "data": {
            "text/plain": [
              "7.0"
            ]
          },
          "metadata": {},
          "execution_count": 16
        }
      ]
    },
    {
      "cell_type": "code",
      "source": [
        "sqrt(36)"
      ],
      "metadata": {
        "colab": {
          "base_uri": "https://localhost:8080/"
        },
        "id": "hl_EXlBUL01k",
        "outputId": "457ee40c-740c-4d4e-88d8-13a6a885dc47"
      },
      "execution_count": 17,
      "outputs": [
        {
          "output_type": "execute_result",
          "data": {
            "text/plain": [
              "6.0"
            ]
          },
          "metadata": {},
          "execution_count": 17
        }
      ]
    },
    {
      "cell_type": "code",
      "metadata": {
        "id": "vL_3azbqvI86"
      },
      "source": [
        "from math import sqrt, factorial"
      ],
      "execution_count": 18,
      "outputs": []
    },
    {
      "cell_type": "code",
      "metadata": {
        "id": "8TK6aLcovYf_",
        "colab": {
          "base_uri": "https://localhost:8080/"
        },
        "outputId": "41e5df68-a949-41ff-acd1-1472af5de760"
      },
      "source": [
        "fat = factorial(4)       # fatorial: 4! = 4.3.2 = 24\n",
        "                         #           5! = 5.4.3.2 = 120\n",
        "fat"
      ],
      "execution_count": 21,
      "outputs": [
        {
          "output_type": "execute_result",
          "data": {
            "text/plain": [
              "24"
            ]
          },
          "metadata": {},
          "execution_count": 21
        }
      ]
    },
    {
      "cell_type": "code",
      "source": [
        "factorial(8)"
      ],
      "metadata": {
        "colab": {
          "base_uri": "https://localhost:8080/"
        },
        "id": "T8Dexa_GMObU",
        "outputId": "ceb9fa73-e57d-476e-84ec-daf5a107c143"
      },
      "execution_count": 23,
      "outputs": [
        {
          "output_type": "execute_result",
          "data": {
            "text/plain": [
              "40320"
            ]
          },
          "metadata": {},
          "execution_count": 23
        }
      ]
    },
    {
      "cell_type": "code",
      "source": [
        "fatorial_raiz = factorial(int(sqrt(16)))\n",
        "fatorial_raiz"
      ],
      "metadata": {
        "colab": {
          "base_uri": "https://localhost:8080/"
        },
        "id": "H_vtnZSMn8gD",
        "outputId": "7c7c30bb-5adb-44d0-f628-80c6d6c7f6bc"
      },
      "execution_count": 24,
      "outputs": [
        {
          "output_type": "execute_result",
          "data": {
            "text/plain": [
              "24"
            ]
          },
          "metadata": {},
          "execution_count": 24
        }
      ]
    },
    {
      "cell_type": "code",
      "metadata": {
        "id": "sVU44zJhwtF1",
        "colab": {
          "base_uri": "https://localhost:8080/"
        },
        "outputId": "33041622-796a-4702-88e4-b87523d1abf8"
      },
      "source": [
        "fatorial_raiz = math.factorial(int(math.sqrt(16)))\n",
        "fatorial_raiz"
      ],
      "execution_count": 25,
      "outputs": [
        {
          "output_type": "execute_result",
          "data": {
            "text/plain": [
              "24"
            ]
          },
          "metadata": {},
          "execution_count": 25
        }
      ]
    },
    {
      "cell_type": "code",
      "metadata": {
        "id": "Pk8d40wE562N",
        "colab": {
          "base_uri": "https://localhost:8080/"
        },
        "outputId": "5ef8a240-a89f-466b-ded2-b428827b5393"
      },
      "source": [
        "import random\n",
        "num = random.randint (1,10)\n",
        "print (num)"
      ],
      "execution_count": 49,
      "outputs": [
        {
          "output_type": "stream",
          "name": "stdout",
          "text": [
            "4\n"
          ]
        }
      ]
    },
    {
      "cell_type": "code",
      "metadata": {
        "id": "foLfjcEZ88LK"
      },
      "source": [
        "random."
      ],
      "execution_count": null,
      "outputs": []
    },
    {
      "cell_type": "markdown",
      "source": [
        "https://docs.python.org/pt-br/3.7/library/random.html"
      ],
      "metadata": {
        "id": "n6qLsPMUHNoF"
      }
    },
    {
      "cell_type": "code",
      "metadata": {
        "id": "N6K3ZTUq9EcH"
      },
      "source": [
        "from random import random, randint"
      ],
      "execution_count": 50,
      "outputs": []
    },
    {
      "cell_type": "code",
      "metadata": {
        "id": "7gDnh7Sv-GOL"
      },
      "source": [
        "random?"
      ],
      "execution_count": 51,
      "outputs": []
    },
    {
      "cell_type": "code",
      "metadata": {
        "id": "n69KJ82G-qLk"
      },
      "source": [
        "randint?"
      ],
      "execution_count": 65,
      "outputs": []
    },
    {
      "cell_type": "code",
      "metadata": {
        "id": "Qn6p4XLt9MiI",
        "colab": {
          "base_uri": "https://localhost:8080/"
        },
        "outputId": "ba1c8858-36ab-482e-b92a-304f8ece67a9"
      },
      "source": [
        "num2 = random()\n",
        "num2"
      ],
      "execution_count": 64,
      "outputs": [
        {
          "output_type": "execute_result",
          "data": {
            "text/plain": [
              "0.5486446341463528"
            ]
          },
          "metadata": {},
          "execution_count": 64
        }
      ]
    },
    {
      "cell_type": "code",
      "source": [
        "randint(2,15)"
      ],
      "metadata": {
        "colab": {
          "base_uri": "https://localhost:8080/"
        },
        "id": "cVkndYd8OVbp",
        "outputId": "e34c34fb-fb41-4388-8abe-818a81bef967"
      },
      "execution_count": 72,
      "outputs": [
        {
          "output_type": "execute_result",
          "data": {
            "text/plain": [
              "10"
            ]
          },
          "metadata": {},
          "execution_count": 72
        }
      ]
    },
    {
      "cell_type": "markdown",
      "metadata": {
        "id": "S0D7LUH87yT_"
      },
      "source": [
        "# **Estrutura condicional**"
      ]
    },
    {
      "cell_type": "code",
      "source": [
        "import numpy as np"
      ],
      "metadata": {
        "id": "o0-xAwbrD3sH"
      },
      "execution_count": null,
      "outputs": []
    },
    {
      "cell_type": "markdown",
      "metadata": {
        "id": "1z1BpFdSoEP3"
      },
      "source": [
        "if\n",
        "else\n",
        "elif"
      ]
    },
    {
      "cell_type": "code",
      "metadata": {
        "id": "PscLlibJ8A-P"
      },
      "source": [
        "nota = 5"
      ],
      "execution_count": 73,
      "outputs": []
    },
    {
      "cell_type": "code",
      "metadata": {
        "id": "m9O23T6U7VaB",
        "colab": {
          "base_uri": "https://localhost:8080/"
        },
        "outputId": "713832c9-1350-474a-8c8d-e07a47e13d95"
      },
      "source": [
        "if nota >= 6:\n",
        "    print('Aprovado')\n",
        "else:\n",
        "    print('Reprovado')"
      ],
      "execution_count": 74,
      "outputs": [
        {
          "output_type": "stream",
          "name": "stdout",
          "text": [
            "Reprovado\n"
          ]
        }
      ]
    },
    {
      "cell_type": "code",
      "metadata": {
        "id": "8phBT3oh8b25",
        "colab": {
          "base_uri": "https://localhost:8080/"
        },
        "outputId": "0966a29e-81ac-445f-cfeb-b16547ffba19"
      },
      "source": [
        "if nota >= 6:\n",
        "    print('Aprovado')\n",
        "elif nota >= 5 and nota< 6:\n",
        "    print('Recuperação')\n",
        "else:\n",
        "    print('Reprovado')"
      ],
      "execution_count": 75,
      "outputs": [
        {
          "output_type": "stream",
          "name": "stdout",
          "text": [
            "Recuperação\n"
          ]
        }
      ]
    },
    {
      "cell_type": "markdown",
      "metadata": {
        "id": "zYMDxIsTog20"
      },
      "source": [
        "# **Estrutura de Repetição**"
      ]
    },
    {
      "cell_type": "markdown",
      "metadata": {
        "id": "6UzQZL5JoqSM"
      },
      "source": [
        "for\n",
        "while\n"
      ]
    },
    {
      "cell_type": "code",
      "metadata": {
        "id": "H-m31UA8ovSt",
        "colab": {
          "base_uri": "https://localhost:8080/"
        },
        "outputId": "48b29888-99b7-4c2f-970b-8fe55719b10d"
      },
      "source": [
        "for c in range(0,4):\n",
        "    print(c)"
      ],
      "execution_count": 76,
      "outputs": [
        {
          "output_type": "stream",
          "name": "stdout",
          "text": [
            "0\n",
            "1\n",
            "2\n",
            "3\n"
          ]
        }
      ]
    },
    {
      "cell_type": "code",
      "metadata": {
        "id": "qLzFKC2-txnH",
        "colab": {
          "base_uri": "https://localhost:8080/"
        },
        "outputId": "091e5a0e-2436-4320-cb81-2152a041852c"
      },
      "source": [
        "lista = [1, 2, 3, 4, 10]\n",
        "for numero in lista:\n",
        "  mult = numero * 2\n",
        "  print(mult)"
      ],
      "execution_count": 77,
      "outputs": [
        {
          "output_type": "stream",
          "name": "stdout",
          "text": [
            "2\n",
            "4\n",
            "6\n",
            "8\n",
            "20\n"
          ]
        }
      ]
    },
    {
      "cell_type": "code",
      "metadata": {
        "id": "JfN3HtEisED1",
        "colab": {
          "base_uri": "https://localhost:8080/"
        },
        "outputId": "e796516c-5668-4f0d-c787-df2f2bd2b9e0"
      },
      "source": [
        "soma = 0\n",
        "cont = 0\n",
        "for c in range (1, 6):\n",
        "    num = int(input('digite o {}o valor: '.format(c)))\n",
        "    if num % 2 == 0:\n",
        "        soma = soma + num\n",
        "        cont = cont + 1\n",
        "print('Você informou {} números pares e a soma deles é igual a {}'.format(cont, soma))"
      ],
      "execution_count": 78,
      "outputs": [
        {
          "output_type": "stream",
          "name": "stdout",
          "text": [
            "digite o 1o valor: 6\n",
            "digite o 2o valor: 4\n",
            "digite o 3o valor: 5\n",
            "digite o 4o valor: 7\n",
            "digite o 5o valor: 8\n",
            "Você informou 3 números pares e a soma deles é igual a 18\n"
          ]
        }
      ]
    },
    {
      "cell_type": "code",
      "metadata": {
        "id": "zEhnKG1aq_nM",
        "colab": {
          "base_uri": "https://localhost:8080/"
        },
        "outputId": "e970b550-8902-42e4-c3b0-e6b4d3aaf54e"
      },
      "source": [
        "c = 1\n",
        "while c <= 10:\n",
        "    s = c + 10\n",
        "    print(s)\n",
        "    c = c + 1\n",
        "print('FIM')"
      ],
      "execution_count": 79,
      "outputs": [
        {
          "output_type": "stream",
          "name": "stdout",
          "text": [
            "11\n",
            "12\n",
            "13\n",
            "14\n",
            "15\n",
            "16\n",
            "17\n",
            "18\n",
            "19\n",
            "20\n",
            "FIM\n"
          ]
        }
      ]
    },
    {
      "cell_type": "markdown",
      "metadata": {
        "id": "zsJIT1D5u_fc"
      },
      "source": [
        "# **Listas, Tuplas e Dicionários**"
      ]
    },
    {
      "cell_type": "markdown",
      "metadata": {
        "id": "SdbTnj1KvM3b"
      },
      "source": [
        "Listas [ ]\n",
        "Tuplas ( )\n",
        "Dicionários { }"
      ]
    },
    {
      "cell_type": "markdown",
      "metadata": {
        "id": "wSQTmCVWx3_O"
      },
      "source": [
        "**LISTAS**"
      ]
    },
    {
      "cell_type": "code",
      "metadata": {
        "id": "HnYMCqQuvkr8"
      },
      "source": [
        "num = [2, 5, 7, 9]"
      ],
      "execution_count": 83,
      "outputs": []
    },
    {
      "cell_type": "code",
      "metadata": {
        "id": "SDBxexK3vq7B"
      },
      "source": [
        "num[3] = 4   # no lugar do elemento na posição 3 (número 9) vai ser colocado o número 4"
      ],
      "execution_count": 85,
      "outputs": []
    },
    {
      "cell_type": "code",
      "metadata": {
        "id": "kfkiZ9suwE3I",
        "colab": {
          "base_uri": "https://localhost:8080/"
        },
        "outputId": "52a4b301-2b0a-4328-aabd-4c6498b46883"
      },
      "source": [
        "num"
      ],
      "execution_count": 86,
      "outputs": [
        {
          "output_type": "execute_result",
          "data": {
            "text/plain": [
              "[2, 5, 7, 4]"
            ]
          },
          "metadata": {},
          "execution_count": 86
        }
      ]
    },
    {
      "cell_type": "code",
      "metadata": {
        "id": "JzL0DiSOwLdg",
        "colab": {
          "base_uri": "https://localhost:8080/"
        },
        "outputId": "21d7d8bd-c442-482c-f839-a50d8a283846"
      },
      "source": [
        "num.append(8) #inclui o número 8\n",
        "num"
      ],
      "execution_count": 87,
      "outputs": [
        {
          "output_type": "execute_result",
          "data": {
            "text/plain": [
              "[2, 5, 7, 4, 8]"
            ]
          },
          "metadata": {},
          "execution_count": 87
        }
      ]
    },
    {
      "cell_type": "code",
      "metadata": {
        "id": "1KbNaG8OwhjC",
        "colab": {
          "base_uri": "https://localhost:8080/"
        },
        "outputId": "f0b9e7f8-b721-4b02-f431-245a87872003"
      },
      "source": [
        "num.sort() #coloca em ordem crescente\n",
        "num"
      ],
      "execution_count": 88,
      "outputs": [
        {
          "output_type": "execute_result",
          "data": {
            "text/plain": [
              "[2, 4, 5, 7, 8]"
            ]
          },
          "metadata": {},
          "execution_count": 88
        }
      ]
    },
    {
      "cell_type": "code",
      "metadata": {
        "id": "fo4dZTcFw2z1",
        "colab": {
          "base_uri": "https://localhost:8080/"
        },
        "outputId": "9e523578-0f44-4cdd-df5c-cc8301e5a015"
      },
      "source": [
        "num.insert(2, 0) # adiciona o zero na posição 2\n",
        "num"
      ],
      "execution_count": 89,
      "outputs": [
        {
          "output_type": "execute_result",
          "data": {
            "text/plain": [
              "[2, 4, 0, 5, 7, 8]"
            ]
          },
          "metadata": {},
          "execution_count": 89
        }
      ]
    },
    {
      "cell_type": "code",
      "metadata": {
        "id": "2wim84P4xEkd",
        "colab": {
          "base_uri": "https://localhost:8080/"
        },
        "outputId": "eea16afb-9ea1-4199-fd17-9b468400c571"
      },
      "source": [
        "num.remove(7) #remove o elemento 7\n",
        "num"
      ],
      "execution_count": 90,
      "outputs": [
        {
          "output_type": "execute_result",
          "data": {
            "text/plain": [
              "[2, 4, 0, 5, 8]"
            ]
          },
          "metadata": {},
          "execution_count": 90
        }
      ]
    },
    {
      "cell_type": "code",
      "metadata": {
        "id": "9HXeuBChxeb0",
        "colab": {
          "base_uri": "https://localhost:8080/"
        },
        "outputId": "cfa7d1ae-6ba1-4318-a8ad-30ae95a225f3"
      },
      "source": [
        "num.pop(3) #remove o elemento na posição 3\n",
        "num"
      ],
      "execution_count": 91,
      "outputs": [
        {
          "output_type": "execute_result",
          "data": {
            "text/plain": [
              "[2, 4, 0, 8]"
            ]
          },
          "metadata": {},
          "execution_count": 91
        }
      ]
    },
    {
      "cell_type": "code",
      "source": [
        "del(num[0:2]) #deleta números em um determinado intervalo"
      ],
      "metadata": {
        "id": "ExWXGnKxKX0e"
      },
      "execution_count": 92,
      "outputs": []
    },
    {
      "cell_type": "code",
      "source": [
        "num"
      ],
      "metadata": {
        "colab": {
          "base_uri": "https://localhost:8080/"
        },
        "id": "mUthv_ThKc1l",
        "outputId": "37ad40c1-a0ee-472d-978a-6095945fe7b2"
      },
      "execution_count": 93,
      "outputs": [
        {
          "output_type": "execute_result",
          "data": {
            "text/plain": [
              "[0, 8]"
            ]
          },
          "metadata": {},
          "execution_count": 93
        }
      ]
    },
    {
      "cell_type": "markdown",
      "metadata": {
        "id": "UZ7wtvhjywTz"
      },
      "source": [
        "**TUPLAS**"
      ]
    },
    {
      "cell_type": "markdown",
      "metadata": {
        "id": "dEFU0DGDgEwz"
      },
      "source": [
        "Tupla é imutável.\n",
        "Não é possível alterar, incluir ou excluir valores após criado."
      ]
    },
    {
      "cell_type": "code",
      "metadata": {
        "id": "gydwsEq-xyvM"
      },
      "source": [
        "num2 = (2, 5, 7, 9)"
      ],
      "execution_count": 94,
      "outputs": []
    },
    {
      "cell_type": "code",
      "metadata": {
        "id": "wZ0CZ4wtyBhz"
      },
      "source": [
        "num2[3] = 4"
      ],
      "execution_count": null,
      "outputs": []
    },
    {
      "cell_type": "code",
      "metadata": {
        "id": "q1Rlip6SycjK"
      },
      "source": [
        "num2.append(8) #inclui o número 8\n",
        "num2"
      ],
      "execution_count": null,
      "outputs": []
    },
    {
      "cell_type": "markdown",
      "metadata": {
        "id": "Nayqp9rby0kZ"
      },
      "source": [
        "**DICIONÁRIOS**"
      ]
    },
    {
      "cell_type": "code",
      "metadata": {
        "id": "YaEdF0kly9FQ",
        "colab": {
          "base_uri": "https://localhost:8080/"
        },
        "outputId": "d11b5161-0181-43ee-d0fa-52ae18f91365"
      },
      "source": [
        "pessoas = {'nome': 'Luciano', 'sexo': 'masculino', 'idade': 46}  # número não coloca aspas\n",
        "print (pessoas)"
      ],
      "execution_count": 97,
      "outputs": [
        {
          "output_type": "stream",
          "name": "stdout",
          "text": [
            "{'nome': 'Luciano', 'sexo': 'masculino', 'idade': 46}\n"
          ]
        }
      ]
    },
    {
      "cell_type": "code",
      "metadata": {
        "id": "iVQVWZkXz-OH",
        "colab": {
          "base_uri": "https://localhost:8080/"
        },
        "outputId": "5cf617dd-64b3-41b8-d9d2-eb01de5d93ec"
      },
      "source": [
        "pessoas['time'] = 'Corinthians'\n",
        "print(pessoas)"
      ],
      "execution_count": 98,
      "outputs": [
        {
          "output_type": "stream",
          "name": "stdout",
          "text": [
            "{'nome': 'Luciano', 'sexo': 'masculino', 'idade': 46, 'time': 'Corinthians'}\n"
          ]
        }
      ]
    },
    {
      "cell_type": "code",
      "metadata": {
        "id": "Ma9cXRzi16BT",
        "colab": {
          "base_uri": "https://localhost:8080/"
        },
        "outputId": "9d55cb16-3acb-4e16-e980-ac8e4a739025"
      },
      "source": [
        "del pessoas['idade']\n",
        "print(pessoas)"
      ],
      "execution_count": 99,
      "outputs": [
        {
          "output_type": "stream",
          "name": "stdout",
          "text": [
            "{'nome': 'Luciano', 'sexo': 'masculino', 'time': 'Corinthians'}\n"
          ]
        }
      ]
    },
    {
      "cell_type": "markdown",
      "metadata": {
        "id": "ZIFE-DwhkB_K"
      },
      "source": [
        "# **Funções**"
      ]
    },
    {
      "cell_type": "code",
      "metadata": {
        "id": "dRcIq_-nkKEh"
      },
      "source": [
        "def identificacao(nome,idade):\n",
        "   print('Olá',nome,'\\nVocê é jovem, tem apenas',idade, 'anos')"
      ],
      "execution_count": 100,
      "outputs": []
    },
    {
      "cell_type": "code",
      "metadata": {
        "id": "le4TCLqUk-5g",
        "colab": {
          "base_uri": "https://localhost:8080/"
        },
        "outputId": "2b9cd022-082d-40a2-f5da-20550dca983d"
      },
      "source": [
        "identificacao('Luis', 24)"
      ],
      "execution_count": 102,
      "outputs": [
        {
          "output_type": "stream",
          "name": "stdout",
          "text": [
            "Olá Luis \n",
            "Você é jovem, tem apenas 24 anos\n"
          ]
        }
      ]
    },
    {
      "cell_type": "code",
      "metadata": {
        "id": "qJWNKw8nlg82"
      },
      "source": [
        "def maior (x,y):\n",
        "  if x < y:\n",
        "    print ('O maior número é', y)\n",
        "  elif x == y:\n",
        "    print ('Os números são iguais')\n",
        "  else:\n",
        "    print ('O maior número é', x)"
      ],
      "execution_count": 107,
      "outputs": []
    },
    {
      "cell_type": "code",
      "metadata": {
        "id": "QBXbsMyJmQzm",
        "colab": {
          "base_uri": "https://localhost:8080/"
        },
        "outputId": "be5bb7de-00ef-4aab-f731-1ba5b467fa18"
      },
      "source": [
        "maior (16,16)"
      ],
      "execution_count": 108,
      "outputs": [
        {
          "output_type": "stream",
          "name": "stdout",
          "text": [
            "Os números são iguais\n"
          ]
        }
      ]
    },
    {
      "cell_type": "code",
      "metadata": {
        "id": "AH4rNn6dmrdl"
      },
      "source": [
        "def pitagoras (cat1, cat2, hip):\n",
        "  if hip == '?':\n",
        "    hip = (cat1**2+cat2**2)**(1/2)\n",
        "    print ('A hipotenusa é', hip)\n",
        "  elif cat1 == '?':\n",
        "    cat1 = (hip**2-cat2**2)**(1/2)\n",
        "    print ('O cateto é', cat1)\n",
        "  elif cat2 == '?':\n",
        "    cat2 = (hip**2-cat1**2)**(1/2)\n",
        "    print ('O cateto é', cat2)"
      ],
      "execution_count": 109,
      "outputs": []
    },
    {
      "cell_type": "code",
      "metadata": {
        "id": "AdqHm9aWnF-T",
        "colab": {
          "base_uri": "https://localhost:8080/"
        },
        "outputId": "08d5059f-1c77-4231-d1ca-beeaa2e8540d"
      },
      "source": [
        "pitagoras (3,'?',9)"
      ],
      "execution_count": 114,
      "outputs": [
        {
          "output_type": "stream",
          "name": "stdout",
          "text": [
            "O cateto é 8.48528137423857\n"
          ]
        }
      ]
    },
    {
      "cell_type": "markdown",
      "metadata": {
        "id": "Wbpjrij0Q6Il"
      },
      "source": [
        "## **Função lambda e map**"
      ]
    },
    {
      "cell_type": "markdown",
      "metadata": {
        "id": "5CuPklGeX2RJ"
      },
      "source": [
        "Forma simplificada de escrever funções"
      ]
    },
    {
      "cell_type": "code",
      "metadata": {
        "id": "LqflbOryRCJt"
      },
      "source": [
        "def area_quadrado (L):\n",
        "  area = L**2\n",
        "  print(area)"
      ],
      "execution_count": 115,
      "outputs": []
    },
    {
      "cell_type": "code",
      "metadata": {
        "colab": {
          "base_uri": "https://localhost:8080/"
        },
        "id": "gTUKwLKPRWfs",
        "outputId": "ff5dadd4-e9c5-4274-8087-ec50e9d5a8bc"
      },
      "source": [
        "area_quadrado(4)"
      ],
      "execution_count": 116,
      "outputs": [
        {
          "output_type": "stream",
          "name": "stdout",
          "text": [
            "16\n"
          ]
        }
      ]
    },
    {
      "cell_type": "code",
      "metadata": {
        "id": "HgWm3A8FRe4r"
      },
      "source": [
        "area_quadrado2 = lambda x: x**2"
      ],
      "execution_count": 117,
      "outputs": []
    },
    {
      "cell_type": "code",
      "metadata": {
        "colab": {
          "base_uri": "https://localhost:8080/"
        },
        "id": "q7k3w49zWHBb",
        "outputId": "0f091cc1-cbaf-4a16-b184-3e9d93c3373f"
      },
      "source": [
        "area_quadrado2(7)"
      ],
      "execution_count": 118,
      "outputs": [
        {
          "output_type": "execute_result",
          "data": {
            "text/plain": [
              "49"
            ]
          },
          "metadata": {},
          "execution_count": 118
        }
      ]
    },
    {
      "cell_type": "code",
      "metadata": {
        "id": "fYePyGQiWx9N"
      },
      "source": [
        "area_retangulo = lambda b, h: b*h"
      ],
      "execution_count": 119,
      "outputs": []
    },
    {
      "cell_type": "code",
      "metadata": {
        "colab": {
          "base_uri": "https://localhost:8080/"
        },
        "id": "zRPIrrLCXHK7",
        "outputId": "8814b0b1-e635-4eca-c75e-1d3920789300"
      },
      "source": [
        "area_retangulo(4,7)"
      ],
      "execution_count": 120,
      "outputs": [
        {
          "output_type": "execute_result",
          "data": {
            "text/plain": [
              "28"
            ]
          },
          "metadata": {},
          "execution_count": 120
        }
      ]
    },
    {
      "cell_type": "code",
      "metadata": {
        "colab": {
          "base_uri": "https://localhost:8080/"
        },
        "id": "T7Fy6q5YSiXS",
        "outputId": "89cc3c72-323d-4249-d256-3ceca0f7f364"
      },
      "source": [
        "# Uma vantagem é quando se utiliza juntamente com outros métodos\n",
        "L = [4,5,6,7,11,9,10]\n",
        "areas = list(map(lambda x: x**2, L))\n",
        "print(areas)"
      ],
      "execution_count": 121,
      "outputs": [
        {
          "output_type": "stream",
          "name": "stdout",
          "text": [
            "[16, 25, 36, 49, 121, 81, 100]\n"
          ]
        }
      ]
    },
    {
      "cell_type": "code",
      "source": [
        "area_retangulo = lambda b, h: b*h"
      ],
      "metadata": {
        "id": "f28TPZHmQih2"
      },
      "execution_count": 123,
      "outputs": []
    },
    {
      "cell_type": "markdown",
      "metadata": {
        "id": "0qqrF6eUXrE4"
      },
      "source": [
        "# **List Comprehensions**"
      ]
    },
    {
      "cell_type": "markdown",
      "metadata": {
        "id": "h8_IZl4BYSgG"
      },
      "source": [
        "Otimiza a utilização de listas e diminui linhas de código"
      ]
    },
    {
      "cell_type": "code",
      "metadata": {
        "id": "e_i-0-4aYR0m",
        "colab": {
          "base_uri": "https://localhost:8080/"
        },
        "outputId": "7d879588-bc16-48e1-a0e4-99f3d34dbc5a"
      },
      "source": [
        "lista=[]\n",
        "for valor in range(5):\n",
        "  lista.append(valor+10)\n",
        "print(lista)\n"
      ],
      "execution_count": 124,
      "outputs": [
        {
          "output_type": "stream",
          "name": "stdout",
          "text": [
            "[10, 11, 12, 13, 14]\n"
          ]
        }
      ]
    },
    {
      "cell_type": "code",
      "metadata": {
        "id": "uThJIVObXpeR",
        "colab": {
          "base_uri": "https://localhost:8080/"
        },
        "outputId": "602a9c2a-6927-43ae-e196-ce739d298268"
      },
      "source": [
        "lista = [valor+10 for valor in range(5)]\n",
        "print(lista)\n"
      ],
      "execution_count": 125,
      "outputs": [
        {
          "output_type": "stream",
          "name": "stdout",
          "text": [
            "[10, 11, 12, 13, 14]\n"
          ]
        }
      ]
    },
    {
      "cell_type": "code",
      "metadata": {
        "id": "gmq6W-Fjarvf",
        "colab": {
          "base_uri": "https://localhost:8080/"
        },
        "outputId": "2d8ab048-db1f-4a32-b0ef-a86e2af5ab05"
      },
      "source": [
        "lista = []\n",
        "for numero in range (1,30):\n",
        "  if numero % 4 == 0:\n",
        "    lista.append(numero)\n",
        "print(lista)\n"
      ],
      "execution_count": 126,
      "outputs": [
        {
          "output_type": "stream",
          "name": "stdout",
          "text": [
            "[4, 8, 12, 16, 20, 24, 28]\n"
          ]
        }
      ]
    },
    {
      "cell_type": "code",
      "metadata": {
        "id": "se6DeQZKZ6HJ",
        "colab": {
          "base_uri": "https://localhost:8080/"
        },
        "outputId": "ff52083c-7750-4a7d-f17f-d52c989c33a0"
      },
      "source": [
        "multiplos4 = [numero for numero in range(1,30) if numero % 4 == 0]\n",
        "print(multiplos4)\n"
      ],
      "execution_count": 127,
      "outputs": [
        {
          "output_type": "stream",
          "name": "stdout",
          "text": [
            "[4, 8, 12, 16, 20, 24, 28]\n"
          ]
        }
      ]
    },
    {
      "cell_type": "code",
      "metadata": {
        "id": "Fi5Hes3ebvVN",
        "colab": {
          "base_uri": "https://localhost:8080/"
        },
        "outputId": "fcdb7714-c1ed-4b1c-c181-7ee006f26635"
      },
      "source": [
        "conceito = ['azul' if nota >= 6 else 'vermelha' for nota in range(1,11)]\n",
        "print(conceito)"
      ],
      "execution_count": 128,
      "outputs": [
        {
          "output_type": "stream",
          "name": "stdout",
          "text": [
            "['vermelha', 'vermelha', 'vermelha', 'vermelha', 'vermelha', 'azul', 'azul', 'azul', 'azul', 'azul']\n"
          ]
        }
      ]
    },
    {
      "cell_type": "code",
      "source": [
        "raridade = ['SSR'if estrelas == 5 else 'SR' for estrelas in range(1,6)]\n",
        "print (raridade)"
      ],
      "metadata": {
        "colab": {
          "base_uri": "https://localhost:8080/"
        },
        "id": "X8J2jM5amqJG",
        "outputId": "90992cbb-ce75-489d-e1ca-5b4ed7043fec"
      },
      "execution_count": 130,
      "outputs": [
        {
          "output_type": "stream",
          "name": "stdout",
          "text": [
            "['SR', 'SR', 'SR', 'SR', 'SSR']\n"
          ]
        }
      ]
    },
    {
      "cell_type": "markdown",
      "metadata": {
        "id": "uxCpeYoKDdd9"
      },
      "source": [
        "# **Vetores (arrays) e matrizes**"
      ]
    },
    {
      "cell_type": "markdown",
      "metadata": {
        "id": "RvI6SyjG5zjX"
      },
      "source": [
        "Matriz\n",
        "1    3    5    7\n",
        "2    4    6    8\n",
        "0    1    2    3\n",
        "\n",
        "Vetor\n",
        "5  10  15  20\n",
        "ou\n",
        "3\n",
        "4\n",
        "5\n",
        "6"
      ]
    },
    {
      "cell_type": "code",
      "metadata": {
        "id": "TAWr5vcXE3Ri"
      },
      "source": [
        "vetor = [2,4,5,6]"
      ],
      "execution_count": 131,
      "outputs": []
    },
    {
      "cell_type": "code",
      "metadata": {
        "id": "wTr4TDHhE7gq",
        "colab": {
          "base_uri": "https://localhost:8080/"
        },
        "outputId": "e7fc2f74-cf02-4162-cdd9-7e9d42dd06c4"
      },
      "source": [
        "type(vetor)"
      ],
      "execution_count": 132,
      "outputs": [
        {
          "output_type": "execute_result",
          "data": {
            "text/plain": [
              "list"
            ]
          },
          "metadata": {},
          "execution_count": 132
        }
      ]
    },
    {
      "cell_type": "code",
      "metadata": {
        "id": "nPPcWhIjG4YP"
      },
      "source": [
        "matriz = [[1,2,3],\n",
        "          [4,5,6],\n",
        "          [7,8,9]]"
      ],
      "execution_count": 133,
      "outputs": []
    },
    {
      "cell_type": "code",
      "metadata": {
        "id": "ff6UObFAHAcs",
        "colab": {
          "base_uri": "https://localhost:8080/"
        },
        "outputId": "1d262e9d-0e1f-44ab-fbb6-1e4388c6393f"
      },
      "source": [
        "type(matriz)"
      ],
      "execution_count": 134,
      "outputs": [
        {
          "output_type": "execute_result",
          "data": {
            "text/plain": [
              "list"
            ]
          },
          "metadata": {},
          "execution_count": 134
        }
      ]
    },
    {
      "cell_type": "code",
      "metadata": {
        "id": "PlJvmdwnKbkN",
        "colab": {
          "base_uri": "https://localhost:8080/"
        },
        "outputId": "ed85e172-4620-4da1-fb06-73eb44f7bdec"
      },
      "source": [
        "print(matriz)"
      ],
      "execution_count": 135,
      "outputs": [
        {
          "output_type": "stream",
          "name": "stdout",
          "text": [
            "[[1, 2, 3], [4, 5, 6], [7, 8, 9]]\n"
          ]
        }
      ]
    },
    {
      "cell_type": "code",
      "metadata": {
        "id": "L3C192qbB4sR"
      },
      "source": [
        "import numpy as np"
      ],
      "execution_count": 136,
      "outputs": []
    },
    {
      "cell_type": "code",
      "metadata": {
        "id": "_xDT0MeaDuAW"
      },
      "source": [
        "vetor2 = np.array([1, -3, 4.2, 5])"
      ],
      "execution_count": 137,
      "outputs": []
    },
    {
      "cell_type": "code",
      "metadata": {
        "id": "ED19yxFZE0PE",
        "colab": {
          "base_uri": "https://localhost:8080/"
        },
        "outputId": "1e2b7898-bfec-4dcf-8eb3-7a944999de08"
      },
      "source": [
        "type(vetor2)"
      ],
      "execution_count": 138,
      "outputs": [
        {
          "output_type": "execute_result",
          "data": {
            "text/plain": [
              "numpy.ndarray"
            ]
          },
          "metadata": {},
          "execution_count": 138
        }
      ]
    },
    {
      "cell_type": "code",
      "metadata": {
        "id": "ipy3TrhoJLKT",
        "colab": {
          "base_uri": "https://localhost:8080/"
        },
        "outputId": "279f4791-b665-4b7e-f50b-62af6be190cc"
      },
      "source": [
        "print (vetor2)"
      ],
      "execution_count": 139,
      "outputs": [
        {
          "output_type": "stream",
          "name": "stdout",
          "text": [
            "[ 1.  -3.   4.2  5. ]\n"
          ]
        }
      ]
    },
    {
      "cell_type": "code",
      "metadata": {
        "id": "r9Lsxs2YCHP0",
        "colab": {
          "base_uri": "https://localhost:8080/"
        },
        "outputId": "e0242a3a-6176-4162-f716-3e05a5a45aa8"
      },
      "source": [
        "matriz2 = np.ones((2,3))\n",
        "matriz2"
      ],
      "execution_count": 142,
      "outputs": [
        {
          "output_type": "execute_result",
          "data": {
            "text/plain": [
              "array([[1., 1., 1.],\n",
              "       [1., 1., 1.]])"
            ]
          },
          "metadata": {},
          "execution_count": 142
        }
      ]
    },
    {
      "cell_type": "code",
      "metadata": {
        "id": "CBTQ5_IHKK9G",
        "colab": {
          "base_uri": "https://localhost:8080/"
        },
        "outputId": "f4689600-ad1a-4a36-fb90-31a926b67d05"
      },
      "source": [
        "type(matriz2)"
      ],
      "execution_count": 143,
      "outputs": [
        {
          "output_type": "execute_result",
          "data": {
            "text/plain": [
              "numpy.ndarray"
            ]
          },
          "metadata": {},
          "execution_count": 143
        }
      ]
    },
    {
      "cell_type": "code",
      "metadata": {
        "id": "Bx_SfghTCYZC",
        "colab": {
          "base_uri": "https://localhost:8080/"
        },
        "outputId": "28974ed1-3f2f-455d-e2f2-35df9cdef7ff"
      },
      "source": [
        "matriz3 = np.diag((2,4,6,8,10))\n",
        "matriz3"
      ],
      "execution_count": 144,
      "outputs": [
        {
          "output_type": "execute_result",
          "data": {
            "text/plain": [
              "array([[ 2,  0,  0,  0,  0],\n",
              "       [ 0,  4,  0,  0,  0],\n",
              "       [ 0,  0,  6,  0,  0],\n",
              "       [ 0,  0,  0,  8,  0],\n",
              "       [ 0,  0,  0,  0, 10]])"
            ]
          },
          "metadata": {},
          "execution_count": 144
        }
      ]
    },
    {
      "cell_type": "code",
      "metadata": {
        "id": "ULocEupzEaNU",
        "colab": {
          "base_uri": "https://localhost:8080/"
        },
        "outputId": "1d7c335f-9b79-4e34-f8b9-0b9c1777c528"
      },
      "source": [
        "type(matriz3)"
      ],
      "execution_count": 145,
      "outputs": [
        {
          "output_type": "execute_result",
          "data": {
            "text/plain": [
              "numpy.ndarray"
            ]
          },
          "metadata": {},
          "execution_count": 145
        }
      ]
    }
  ]
}